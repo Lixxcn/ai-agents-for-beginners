{
  "cells": [
    {
      "cell_type": "markdown",
      "metadata": {},
      "source": [
        "# Semantic Kernel\n",
        "\n",
        "在此代码示例中，您将使用 [Semantic Kernel](https://aka.ms/ai-agents-beginners/semantic-kernel) AI 框架创建一个基本代理。\n",
        "\n",
        "本示例的目标是向您展示我们稍后在实现不同代理模式时将在附加代码示例中使用的步骤。\n"
      ]
    },
    {
      "cell_type": "code",
      "execution_count": 1,
      "metadata": {},
      "outputs": [],
      "source": [
        "## 导入所需的 Python 包\n",
        "import os\n",
        "\n",
        "from typing import Annotated\n",
        "\n",
        "from openai import AsyncOpenAI\n",
        "\n",
        "from dotenv import load_dotenv\n",
        "\n",
        "from semantic_kernel.agents import ChatCompletionAgent, ChatHistoryAgentThread\n",
        "from semantic_kernel.connectors.ai.open_ai import OpenAIChatCompletion\n",
        "from semantic_kernel.functions import kernel_function"
      ]
    },
    {
      "cell_type": "markdown",
      "metadata": {},
      "source": [
        "## Creating the Client\n",
        "\n",
        "在此示例中，我们将使用 [GitHub Models](https://aka.ms/ai-agents-beginners/github-models) 访问 LLM。\n",
        "\n",
        "`ai_model_id` 定义为 `gpt-4o-mini`。尝试将模型更改为 GitHub Models 市场中可用的其他模型，以查看不同的结果。\n",
        "\n",
        "为了使用用于 GitHub Models 的 `base_url` 的 Azure Inference SDK，我们将在 Semantic Kernel 中使用 `OpenAIChatCompletion` 连接器。还有其他 [可用连接器](https://learn.microsoft.com/semantic-kernel/concepts/ai-services/chat-completion) 可用于 Semantic Kernel 与其他模型提供商。\n"
      ]
    },
    {
      "cell_type": "code",
      "execution_count": 3,
      "metadata": {},
      "outputs": [],
      "source": [
        "import random\n",
        "\n",
        "# 为示例定义一个示例插件\n",
        "\n",
        "class DestinationsPlugin:\n",
        "    \"\"\"一个随机度假目的地的列表。\"\"\"\n",
        "\n",
        "    def __init__(self):\n",
        "        # 度假目的地列表\n",
        "        self.destinations = [\n",
        "            \"Barcelona, Spain\",\n",
        "            \"Paris, France\",\n",
        "            \"Berlin, Germany\",\n",
        "            \"Tokyo, Japan\",\n",
        "            \"Sydney, Australia\",\n",
        "            \"New York, USA\",\n",
        "            \"Cairo, Egypt\",\n",
        "            \"Cape Town, South Africa\",\n",
        "            \"Rio de Janeiro, Brazil\",\n",
        "            \"Bali, Indonesia\"\n",
        "        ]\n",
        "        # 跟踪上一个目的地以避免重复\n",
        "        self.last_destination = None\n",
        "\n",
        "    @kernel_function(description=\"提供一个随机度假目的地。\")\n",
        "    def get_random_destination(self) -> Annotated[str, \"返回一个随机度假目的地。\"]:\n",
        "        # 获取可用目的地（如果可能，排除上一个）\n",
        "        available_destinations = self.destinations.copy()\n",
        "        if self.last_destination and len(available_destinations) > 1:\n",
        "            available_destinations.remove(self.last_destination)\n",
        "\n",
        "        # 选择一个随机目的地\n",
        "        destination = random.choice(available_destinations)\n",
        "\n",
        "        # 更新上一个目的地\n",
        "        self.last_destination = destination\n",
        "\n",
        "        return destination\n",
        "\n",
        "load_dotenv()\n",
        "\n",
        "client = AsyncOpenAI(\n",
        "    api_key=os.environ.get(\"GITHUB_TOKEN\"),\n",
        "    base_url=\"https://models.inference.ai.azure.com/\",\n",
        ")\n",
        "\n",
        "# 创建一个将由 `ChatCompletionAgent` 使用的 AI 服务\n",
        "chat_completion_service = OpenAIChatCompletion(\n",
        "    ai_model_id=\"gpt-4o-mini\",\n",
        "    async_client=client,\n",
        ")"
      ]
    },
    {
      "cell_type": "markdown",
      "metadata": {},
      "source": [
        "## 创建代理\n",
        "\n",
        "下面我们创建一个名为 `TravelAgent` 的代理。\n",
        "\n",
        "在此示例中，我们使用了非常简单的指令。您可以更改这些指令，看看代理的响应有何不同。\n"
      ]
    },
    {
      "cell_type": "code",
      "execution_count": 4,
      "metadata": {},
      "outputs": [],
      "source": [
        "agent = ChatCompletionAgent(\n",
        "    service=chat_completion_service,\n",
        "    plugins=[DestinationsPlugin()],\n",
        "    name=\"TravelAgent\",\n",
        "    instructions=\"你是一个乐于助人的 AI 代理，可以帮助客户规划随机目的地的假期，回答使用中文。\",\n",
        ")"
      ]
    },
    {
      "cell_type": "markdown",
      "metadata": {},
      "source": [
        "## 运行代理\n",
        "\n",
        "现在我们可以通过定义一个类型为 `ChatHistoryAgentThread` 的线程来运行代理。任何所需的系统消息都提供给代理的 invoke_stream `messages` 关键字参数。\n",
        "\n",
        "定义这些之后，我们创建一个 `user_inputs`，这将是用户发送给代理的消息。在此示例中，我们将此消息设置为 `Plan me a sunny vacation`。\n",
        "\n",
        "随意更改此消息，看看代理的响应有何不同。\n"
      ]
    },
    {
      "cell_type": "code",
      "execution_count": 6,
      "metadata": {},
      "outputs": [
        {
          "name": "stdout",
          "output_type": "stream",
          "text": [
            "# User: Plan me a day trip.\n",
            "\n",
            "# TravelAgent: 我为您计划了一次美妙的日间旅行，目的地是埃及开罗。以下是您一天的行程安排：\n",
            "\n",
            "### 上午\n",
            "1. **吉萨金字塔群**  \n",
            "   - 参观著名的金字塔，欣赏大金字塔和狮身人面像。这是世界七大奇迹之一，非常值得一看。\n",
            "\n",
            "### 中午\n",
            "2. **古埃及餐厅用餐**  \n",
            "   - 在一家当地餐厅享用传统的埃及美食，比如法拉费尔、库斯库斯和塔比勒。\n",
            "\n",
            "### 下午\n",
            "3. **埃及博物馆**  \n",
            "   - 探索丰富的古埃及历史，查看法老的遗物，包括图坦卡蒙的财宝和古代艺术品。\n",
            "\n",
            "4. **老开罗区**  \n",
            "   - 漫步于充满历史韵味的老开罗，参观古老的教堂和清真寺，感受千年文化的交融。\n",
            "\n",
            "### 晚上\n",
            "5. **尼罗河游船晚餐**  \n",
            "   - 在尼罗河上享受一顿晚餐，欣赏河岸的美丽风景及夜晚的灯光表演。\n",
            "\n",
            "希望您在开罗的日间旅行充满乐趣！如果您需要更多的细节或其他帮助，请告诉我。\n"
          ]
        }
      ],
      "source": [
        "async def main():\n",
        "    # 为代理创建一个新线程\n",
        "    # 如果未提供线程，将创建一个新线程，并随初始响应返回\n",
        "    thread: ChatHistoryAgentThread | None = None\n",
        "\n",
        "    user_inputs = [\n",
        "        \"Plan me a day trip.\",\n",
        "    ]\n",
        "\n",
        "    for user_input in user_inputs:\n",
        "        print(f\"# User: {user_input}\\n\")\n",
        "        first_chunk = True\n",
        "        async for response in agent.invoke_stream(\n",
        "            messages=user_input, thread=thread,\n",
        "        ):\n",
        "            # 5. 打印响应\n",
        "            if first_chunk:\n",
        "                print(f\"# {response.name}: \", end=\"\", flush=True)\n",
        "                first_chunk = False\n",
        "            print(f\"{response}\", end=\"\", flush=True)\n",
        "            thread = response.thread\n",
        "        print()\n",
        "\n",
        "    # 清理线程\n",
        "    await thread.delete() if thread else None\n",
        "\n",
        "await main()"
      ]
    }
  ],
  "metadata": {
    "kernelspec": {
      "display_name": "venv",
      "language": "python",
      "name": "python3"
    },
    "language_info": {
      "codemirror_mode": {
        "name": "ipython",
        "version": 3
      },
      "file_extension": ".py",
      "mimetype": "text/x-python",
      "name": "python",
      "nbconvert_exporter": "python",
      "pygments_lexer": "ipython3",
      "version": "3.13.3"
    }
  },
  "nbformat": 4,
  "nbformat_minor": 2
}
